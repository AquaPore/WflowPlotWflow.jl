{
 "cells": [
  {
   "cell_type": "code",
   "execution_count": 17,
   "metadata": {},
   "outputs": [
    {
     "name": "stderr",
     "output_type": "stream",
     "text": [
      "\u001b[32m\u001b[1m  Activating\u001b[22m\u001b[39m project at `C:\\Users\\jpollacco.local\\.julia\\dev\\Wflow`\n"
     ]
    }
   ],
   "source": [
    "using Pkg\n",
    "cd(raw\"C:\\Users\\jpollacco.local\\.julia\\dev\\Wflow\")\n",
    "Pkg.activate(\".\")\n",
    "\n",
    "using DataFrames \n",
    "# using GeoStats\n",
    "# using GeoIO\n",
    "import CairoMakie as Mke\n",
    "using Pkg\n",
    "using NCDatasets\n",
    "using NetCDF\n",
    "using CairoMakie\n",
    "using Makie.Colors\n"
   ]
  },
  {
   "cell_type": "code",
   "execution_count": 48,
   "metadata": {},
   "outputs": [
    {
     "data": {
      "text/plain": [
       "\"C:\\\\Users\\\\jpollacco.local\\\\.julia\\\\dev\\\\Wflow\\\\data\\\\data\\\\input\\\\forcing-moselle.nc\""
      ]
     },
     "metadata": {},
     "output_type": "display_data"
    }
   ],
   "source": [
    "Path = raw\"C:\\Users\\jpollacco.local\\.julia\\dev\\Wflow\\data\\data\\input\"\n",
    "Path_Forcing = joinpath(Path,\"forcing-moselle.nc\")\n"
   ]
  },
  {
   "cell_type": "code",
   "execution_count": 49,
   "metadata": {},
   "outputs": [
    {
     "data": {
      "text/plain": [
       "\u001b[31mDataset: C:\\Users\\jpollacco.local\\.julia\\dev\\Wflow\\data\\data\\input\\forcing-moselle.nc\u001b[39m\n",
       "Group: /\n",
       "\n",
       "\u001b[31mDimensions\u001b[39m\n",
       "   time = 366\n",
       "   y = 313\n",
       "   x = 291\n",
       "\n",
       "\u001b[31mVariables\u001b[39m\n",
       "\u001b[32m  time\u001b[39m   (366)\n",
       "    Datatype:    \u001b[0m\u001b[1mDates.DateTime\u001b[22m (Int64)\n",
       "    Dimensions:  time\n",
       "    Attributes:\n",
       "     units                = \u001b[36mdays since 2000-01-02 00:00:00\u001b[39m\n",
       "     calendar             = \u001b[36mproleptic_gregorian\u001b[39m\n",
       "\n",
       "\u001b[32m  y\u001b[39m   (313)\n",
       "    Datatype:    \u001b[0m\u001b[1mFloat64\u001b[22m (Float64)\n",
       "    Dimensions:  y\n",
       "\n",
       "\u001b[32m  x\u001b[39m   (291)\n",
       "    Datatype:    \u001b[0m\u001b[1mFloat64\u001b[22m (Float64)\n",
       "    Dimensions:  x\n",
       "\n",
       "\u001b[32m  spatial_ref\u001b[39m  \n",
       "    Attributes:\n",
       "     crs_wkt              = \u001b[36mGEOGCS[\"WGS 84\",DATUM[\"WGS_1984\",SPHEROID[\"WGS 84\",6378137,298.257223563,AUTHORITY[\"EPSG\",\"7030\"]],AUTHORITY[\"EPSG\",\"6326\"]],PRIMEM[\"Greenwich\",0,AUTHORITY[\"EPSG\",\"8901\"]],UNIT[\"degree\",0.0174532925199433,AUTHORITY[\"EPSG\",\"9122\"]],AXIS[\"Latitude\",NORTH],AXIS[\"Longitude\",EAST],AUTHORITY[\"EPSG\",\"4326\"]]\u001b[39m\n",
       "     x_dim                = \u001b[36mx\u001b[39m\n",
       "     y_dim                = \u001b[36my\u001b[39m\n",
       "     dim0                 = \u001b[36mtime\u001b[39m\n",
       "\n",
       "\u001b[32m  precip\u001b[39m   (291 × 313 × 366)\n",
       "    Datatype:    \u001b[0m\u001b[1mUnion{Missing, Float32}\u001b[22m (Float32)\n",
       "    Dimensions:  x × y × time\n",
       "    Attributes:\n",
       "     _FillValue           = \u001b[36mNaN\u001b[39m\n",
       "     unit                 = \u001b[36mmm\u001b[39m\n",
       "     precip_fn            = \u001b[36mera5\u001b[39m\n",
       "     coordinates          = \u001b[36midx_out spatial_ref mask\u001b[39m\n",
       "\n",
       "\u001b[32m  idx_out\u001b[39m   (291 × 313)\n",
       "    Datatype:    \u001b[0m\u001b[1mInt32\u001b[22m (Int32)\n",
       "    Dimensions:  x × y\n",
       "\n",
       "\u001b[32m  mask\u001b[39m   (291 × 313)\n",
       "    Datatype:    \u001b[0m\u001b[1mUInt8\u001b[22m (UInt8)\n",
       "    Dimensions:  x × y\n",
       "\n",
       "\u001b[32m  pet\u001b[39m   (291 × 313 × 366)\n",
       "    Datatype:    \u001b[0m\u001b[1mUnion{Missing, Float32}\u001b[22m (Float32)\n",
       "    Dimensions:  x × y × time\n",
       "    Attributes:\n",
       "     _FillValue           = \u001b[36mNaN\u001b[39m\n",
       "     unit                 = \u001b[36mmm\u001b[39m\n",
       "     pet_fn               = \u001b[36mera5\u001b[39m\n",
       "     pet_method           = \u001b[36mdebruin\u001b[39m\n",
       "     coordinates          = \u001b[36midx_out spatial_ref mask\u001b[39m\n",
       "\n",
       "\u001b[32m  temp\u001b[39m   (291 × 313 × 366)\n",
       "    Datatype:    \u001b[0m\u001b[1mUnion{Missing, Float32}\u001b[22m (Float32)\n",
       "    Dimensions:  x × y × time\n",
       "    Attributes:\n",
       "     _FillValue           = \u001b[36mNaN\u001b[39m\n",
       "     unit                 = \u001b[36mdegree C.\u001b[39m\n",
       "     temp_fn              = \u001b[36mera5\u001b[39m\n",
       "     temp_correction      = \u001b[36mTrue\u001b[39m\n",
       "     coordinates          = \u001b[36midx_out spatial_ref mask\u001b[39m\n",
       "\n",
       "\u001b[31mGlobal attributes\u001b[39m\n",
       "  unit                 = \u001b[36mmm\u001b[39m\n",
       "  precip_fn            = \u001b[36mera5\u001b[39m\n",
       "  NCO                  = \u001b[36mnetCDF Operators version 5.1.0 (Homepage = http://nco.sf.net, Code = http://github.com/nco/nco)\u001b[39m\n",
       "  history              = \u001b[36mTue Aug 16 13:44:10 2022: ncatted -O -a _FillValue,y,d,, forcing-moselle.nc\u001b[39m\n",
       "\u001b[36mTue Aug 16 13:44:10 2022: ncatted -O -a _FillValue,x,d,, forcing-moselle.nc\u001b[39m\n",
       "\u001b[36mTue Aug 16 13:44:10 2022: ncatted -O -a _FillValue,time,d,, forcing-moselle.nc\u001b[39m\n"
      ]
     },
     "metadata": {},
     "output_type": "display_data"
    }
   ],
   "source": [
    "# NetCDF.ncinfo(Path_Static)\n",
    "# All information of NCDataset\n",
    "Output_NCDatasets = NCDatasets.NCDataset(Path_Forcing) \n"
   ]
  },
  {
   "cell_type": "code",
   "execution_count": 50,
   "metadata": {},
   "outputs": [
    {
     "name": "stdout",
     "output_type": "stream",
     "text": [
      "Keys_Select = [\"time\", \"y\", \"x\", \"spatial_ref\", \"precip\", \"idx_out\", \"mask\", \"pet\", \"temp\"]\n"
     ]
    }
   ],
   "source": [
    "Keys = NCDatasets.keys(Output_NCDatasets)\n",
    "Keys_Select = []\n",
    "\n",
    "for iiKeys ∈ Keys\n",
    "\tOutput = Output_NCDatasets[iiKeys]\n",
    "\n",
    "\t\t\tData = NetCDF.ncread(Path_Forcing, iiKeys)\n",
    "\n",
    "\t\t\tpush!(Keys_Select, String(iiKeys))\n",
    "\n",
    "end # for iiKeys ∈ Keys\n",
    "\n",
    "Keys_Select = String.(Keys_Select)\n",
    "\n",
    "# deleteat!(Keys_Select, \"wFlow_pits\")\n",
    "\n",
    "@show Keys_Select;\n"
   ]
  },
  {
   "cell_type": "code",
   "execution_count": 51,
   "metadata": {},
   "outputs": [
    {
     "data": {
      "text/plain": [
       "CommonDataModel.Attributes{NCDataset{Nothing, Missing}} with 4 entries:\n",
       "  \"unit\"      => \"mm\"\n",
       "  \"precip_fn\" => \"era5\"\n",
       "  \"NCO\"       => \"netCDF Operators version 5.1.0 (Homepage = http://nco.sf.net,…\n",
       "  \"history\"   => \"Tue Aug 16 13:44:10 2022: ncatted -O -a _FillValue,y,d,, forc…"
      ]
     },
     "metadata": {},
     "output_type": "display_data"
    }
   ],
   "source": [
    "# More information\n",
    "Output_NCDatasets.attrib\n"
   ]
  },
  {
   "cell_type": "code",
   "execution_count": 52,
   "metadata": {},
   "outputs": [
    {
     "data": {
      "text/plain": [
       "\u001b[32mprecip\u001b[39m (291 × 313 × 366)\n",
       "  Datatype:    \u001b[0m\u001b[1mUnion{Missing, Float32}\u001b[22m (Float32)\n",
       "  Dimensions:  x × y × time\n",
       "  Attributes:\n",
       "   _FillValue           = \u001b[36mNaN\u001b[39m\n",
       "   unit                 = \u001b[36mmm\u001b[39m\n",
       "   precip_fn            = \u001b[36mera5\u001b[39m\n",
       "   coordinates          = \u001b[36midx_out spatial_ref mask\u001b[39m\n"
      ]
     },
     "metadata": {},
     "output_type": "display_data"
    }
   ],
   "source": [
    "Output_NCDatasets[\"precip\"]\n"
   ]
  },
  {
   "cell_type": "code",
   "execution_count": 53,
   "metadata": {},
   "outputs": [
    {
     "data": {
      "text/plain": [
       "0"
      ]
     },
     "metadata": {},
     "output_type": "display_data"
    }
   ],
   "source": [
    "# time = Output_NCDatasets[\"precip\"]\n",
    "# time[110]\n",
    "\n",
    "Precip = Output_NCDatasets[\"precip\"]\n",
    "X=100; Y=100; Time =1:10\n",
    "Precip[100,100,Time]\n",
    "\n",
    "\n",
    "Time = Output_NCDatasets[\"time\"]\n",
    "x=110\n",
    "Time[x]\n",
    "\n",
    "spatial_ref= Output_NCDatasets[\"spatial_ref\"]\n",
    "\n",
    "idx_out =  Output_NCDatasets[\"idx_out\"]\n",
    "idx_out[1,1]\n",
    "\n",
    "mask = Output_NCDatasets[\"mask\"]\n",
    "Int64(mask[1,1])\n"
   ]
  },
  {
   "cell_type": "code",
   "execution_count": 54,
   "metadata": {},
   "outputs": [],
   "source": []
  }
 ],
 "metadata": {
  "kernelspec": {
   "display_name": "Julia 1.11.4",
   "language": "julia",
   "name": "julia-1.11"
  },
  "language_info": {
   "file_extension": ".jl",
   "mimetype": "application/julia",
   "name": "julia",
   "version": "1.11.4"
  }
 },
 "nbformat": 4,
 "nbformat_minor": 2
}
